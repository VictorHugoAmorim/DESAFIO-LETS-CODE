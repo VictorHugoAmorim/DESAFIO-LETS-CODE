{
 "cells": [
  {
   "cell_type": "code",
   "execution_count": 4,
   "id": "3372cd89",
   "metadata": {},
   "outputs": [],
   "source": [
    "import requests as r"
   ]
  },
  {
   "cell_type": "code",
   "execution_count": 5,
   "id": "123f96cf",
   "metadata": {},
   "outputs": [],
   "source": [
    "# Capturando o link da API\n",
    "url =  \"https://swapi.dev/api/people/4/\""
   ]
  },
  {
   "cell_type": "code",
   "execution_count": 6,
   "id": "07b21ac3",
   "metadata": {},
   "outputs": [],
   "source": [
    "# Armazenando em uma variável a requisição dessa api\n",
    "req = requests.get(url)"
   ]
  },
  {
   "cell_type": "code",
   "execution_count": 10,
   "id": "1f4c880e",
   "metadata": {},
   "outputs": [
    {
     "data": {
      "text/plain": [
       "200"
      ]
     },
     "execution_count": 10,
     "metadata": {},
     "output_type": "execute_result"
    }
   ],
   "source": [
    "# Testando a funcionalidade da API\n",
    "req.status_code"
   ]
  },
  {
   "cell_type": "code",
   "execution_count": 12,
   "id": "0f750f85",
   "metadata": {},
   "outputs": [
    {
     "data": {
      "text/plain": [
       "{'name': 'Darth Vader',\n",
       " 'height': '202',\n",
       " 'mass': '136',\n",
       " 'hair_color': 'none',\n",
       " 'skin_color': 'white',\n",
       " 'eye_color': 'yellow',\n",
       " 'birth_year': '41.9BBY',\n",
       " 'gender': 'male',\n",
       " 'homeworld': 'https://swapi.dev/api/planets/1/',\n",
       " 'films': ['https://swapi.dev/api/films/1/',\n",
       "  'https://swapi.dev/api/films/2/',\n",
       "  'https://swapi.dev/api/films/3/',\n",
       "  'https://swapi.dev/api/films/6/'],\n",
       " 'species': [],\n",
       " 'vehicles': [],\n",
       " 'starships': ['https://swapi.dev/api/starships/13/'],\n",
       " 'created': '2014-12-10T15:18:20.704000Z',\n",
       " 'edited': '2014-12-20T21:17:50.313000Z',\n",
       " 'url': 'https://swapi.dev/api/people/4/'}"
      ]
     },
     "execution_count": 12,
     "metadata": {},
     "output_type": "execute_result"
    }
   ],
   "source": [
    "# Criando dicionário com o json\n",
    "dados = req.json()\n",
    "dados"
   ]
  },
  {
   "cell_type": "code",
   "execution_count": 33,
   "id": "b8aef1e2",
   "metadata": {},
   "outputs": [],
   "source": [
    "nome, altura, peso, ano_nascimento = dados['name'], dados['height'], dados['mass'], dados['birth_year']"
   ]
  },
  {
   "cell_type": "code",
   "execution_count": 41,
   "id": "aab07040",
   "metadata": {},
   "outputs": [
    {
     "name": "stdout",
     "output_type": "stream",
     "text": [
      "########## DARTH VADER'S INFORMATION ##########\n",
      "\n",
      "Nome: Darth Vader\n",
      "Altura: 202\n",
      "Massa: 136\n",
      "Ano de Nascimento: 41.9BBY\n"
     ]
    }
   ],
   "source": [
    "print('#'*10,'DARTH VADER\\'S INFORMATION','#'*10)\n",
    "print(f'\\nNome: {nome}\\nAltura: {altura}\\nMassa: {peso}\\nAno de Nascimento: {ano_nascimento}')"
   ]
  }
 ],
 "metadata": {
  "kernelspec": {
   "display_name": "Python 3 (ipykernel)",
   "language": "python",
   "name": "python3"
  },
  "language_info": {
   "codemirror_mode": {
    "name": "ipython",
    "version": 3
   },
   "file_extension": ".py",
   "mimetype": "text/x-python",
   "name": "python",
   "nbconvert_exporter": "python",
   "pygments_lexer": "ipython3",
   "version": "3.9.7"
  }
 },
 "nbformat": 4,
 "nbformat_minor": 5
}

{
 "cells": [
  {
   "cell_type": "code",
   "execution_count": 26,
   "id": "c47e1546",
   "metadata": {},
   "outputs": [],
   "source": [
    "import requests as r"
   ]
  },
  {
   "cell_type": "code",
   "execution_count": 27,
   "id": "0ef95ef4",
   "metadata": {},
   "outputs": [],
   "source": [
    "url =  \"https://api.covid19api.com/country/brazil\""
   ]
  },
  {
   "cell_type": "code",
   "execution_count": 28,
   "id": "e66b5a50",
   "metadata": {},
   "outputs": [],
   "source": [
    "req = r.get(url)"
   ]
  },
  {
   "cell_type": "code",
   "execution_count": 29,
   "id": "7eebd2b4",
   "metadata": {},
   "outputs": [
    {
     "data": {
      "text/plain": [
       "200"
      ]
     },
     "execution_count": 29,
     "metadata": {},
     "output_type": "execute_result"
    }
   ],
   "source": [
    "req.status_code"
   ]
  },
  {
   "cell_type": "code",
   "execution_count": 30,
   "id": "f442f014",
   "metadata": {},
   "outputs": [],
   "source": [
    "dados = req.json()"
   ]
  },
  {
   "cell_type": "code",
   "execution_count": 31,
   "id": "7b212d25",
   "metadata": {},
   "outputs": [
    {
     "data": {
      "text/plain": [
       "{'ID': '82bb182c-e73f-41d1-a634-58e23d0875c2',\n",
       " 'Country': 'Brazil',\n",
       " 'CountryCode': 'BR',\n",
       " 'Province': '',\n",
       " 'City': '',\n",
       " 'CityCode': '',\n",
       " 'Lat': '-14.24',\n",
       " 'Lon': '-51.93',\n",
       " 'Confirmed': 0,\n",
       " 'Deaths': 0,\n",
       " 'Recovered': 0,\n",
       " 'Active': 0,\n",
       " 'Date': '2020-01-22T00:00:00Z'}"
      ]
     },
     "execution_count": 31,
     "metadata": {},
     "output_type": "execute_result"
    }
   ],
   "source": [
    "dados[0]"
   ]
  },
  {
   "cell_type": "code",
   "execution_count": 32,
   "id": "18992497",
   "metadata": {},
   "outputs": [],
   "source": [
    "first_case = []\n",
    "for data in range(1,len(dados)):\n",
    "    if dados[data]['Confirmed'] == 1:\n",
    "        first_case.append(dados[data]['Date'])\n",
    "\n"
   ]
  },
  {
   "cell_type": "code",
   "execution_count": 33,
   "id": "d2b11bd5",
   "metadata": {},
   "outputs": [
    {
     "name": "stdout",
     "output_type": "stream",
     "text": [
      "O primeiro caso foi confirmado em 2020-02-26\n"
     ]
    }
   ],
   "source": [
    "print(f'O primeiro caso foi confirmado em {first_case[0][:10]}')"
   ]
  }
 ],
 "metadata": {
  "kernelspec": {
   "display_name": "Python 3 (ipykernel)",
   "language": "python",
   "name": "python3"
  },
  "language_info": {
   "codemirror_mode": {
    "name": "ipython",
    "version": 3
   },
   "file_extension": ".py",
   "mimetype": "text/x-python",
   "name": "python",
   "nbconvert_exporter": "python",
   "pygments_lexer": "ipython3",
   "version": "3.9.7"
  }
 },
 "nbformat": 4,
 "nbformat_minor": 5
}

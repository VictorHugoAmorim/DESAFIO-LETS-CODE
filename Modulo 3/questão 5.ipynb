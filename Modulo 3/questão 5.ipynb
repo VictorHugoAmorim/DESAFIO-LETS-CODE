{
 "cells": [
  {
   "cell_type": "code",
   "execution_count": 3,
   "id": "d34bc384",
   "metadata": {},
   "outputs": [],
   "source": [
    "import requests as r"
   ]
  },
  {
   "cell_type": "code",
   "execution_count": 4,
   "id": "c949d580",
   "metadata": {},
   "outputs": [],
   "source": [
    "url =  \"https://api.covid19api.com/country/brazil\""
   ]
  },
  {
   "cell_type": "code",
   "execution_count": 5,
   "id": "89fc9158",
   "metadata": {},
   "outputs": [],
   "source": [
    "req = r.get(url)"
   ]
  },
  {
   "cell_type": "code",
   "execution_count": 8,
   "id": "4bfbdcd3",
   "metadata": {},
   "outputs": [
    {
     "data": {
      "text/plain": [
       "200"
      ]
     },
     "execution_count": 8,
     "metadata": {},
     "output_type": "execute_result"
    }
   ],
   "source": [
    "req.status_code"
   ]
  },
  {
   "cell_type": "code",
   "execution_count": 9,
   "id": "44ebf789",
   "metadata": {},
   "outputs": [],
   "source": [
    "dados = req.json()"
   ]
  },
  {
   "cell_type": "code",
   "execution_count": 16,
   "id": "e5c413f6",
   "metadata": {},
   "outputs": [
    {
     "data": {
      "text/plain": [
       "{'ID': '82bb182c-e73f-41d1-a634-58e23d0875c2',\n",
       " 'Country': 'Brazil',\n",
       " 'CountryCode': 'BR',\n",
       " 'Province': '',\n",
       " 'City': '',\n",
       " 'CityCode': '',\n",
       " 'Lat': '-14.24',\n",
       " 'Lon': '-51.93',\n",
       " 'Confirmed': 0,\n",
       " 'Deaths': 0,\n",
       " 'Recovered': 0,\n",
       " 'Active': 0,\n",
       " 'Date': '2020-01-22T00:00:00Z'}"
      ]
     },
     "execution_count": 16,
     "metadata": {},
     "output_type": "execute_result"
    }
   ],
   "source": [
    "dados[0]"
   ]
  },
  {
   "cell_type": "code",
   "execution_count": 21,
   "id": "2f6c53b4",
   "metadata": {},
   "outputs": [],
   "source": [
    "first_case = []\n",
    "for data in range(1,len(dados)):\n",
    "    if dados[data]['Confirmed'] == 1:\n",
    "        first_case.append(dados[data]['Date'])\n",
    "\n"
   ]
  },
  {
   "cell_type": "code",
   "execution_count": 24,
   "id": "9aeb4968",
   "metadata": {},
   "outputs": [
    {
     "name": "stdout",
     "output_type": "stream",
     "text": [
      "O primeiro caso foi confirmado em 2020-02-26T00:00:00Z\n"
     ]
    }
   ],
   "source": [
    "print(f'O primeiro caso foi confirmado em {first_case[0]}')"
   ]
  },
  {
   "cell_type": "code",
   "execution_count": 23,
   "id": "29c26c7c",
   "metadata": {},
   "outputs": [
    {
     "data": {
      "text/plain": [
       "'2020-02-26T00:00:00Z'"
      ]
     },
     "execution_count": 23,
     "metadata": {},
     "output_type": "execute_result"
    }
   ],
   "source": [
    "first_case[0]"
   ]
  },
  {
   "cell_type": "code",
   "execution_count": null,
   "id": "3f8ee1ac",
   "metadata": {},
   "outputs": [],
   "source": []
  }
 ],
 "metadata": {
  "kernelspec": {
   "display_name": "Python 3 (ipykernel)",
   "language": "python",
   "name": "python3"
  },
  "language_info": {
   "codemirror_mode": {
    "name": "ipython",
    "version": 3
   },
   "file_extension": ".py",
   "mimetype": "text/x-python",
   "name": "python",
   "nbconvert_exporter": "python",
   "pygments_lexer": "ipython3",
   "version": "3.9.7"
  }
 },
 "nbformat": 4,
 "nbformat_minor": 5
}
